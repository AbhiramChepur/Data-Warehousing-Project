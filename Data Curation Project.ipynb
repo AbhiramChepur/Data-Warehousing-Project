{
 "cells": [
  {
   "cell_type": "markdown",
   "metadata": {},
   "source": [
    "# CS 520 Data Curation Project - ETL Pipeline using Spark, Pandas and MongoDB"
   ]
  },
  {
   "cell_type": "markdown",
   "metadata": {},
   "source": [
    "## Our goal for the project is to Extract data from a CSV file. \n",
    "## Transform the original schema of the file into the required schema with lesser number of columns and with column names changed. \n",
    "## Explore and Query the Data. \n",
    "## Load the data as JSON Documents in a Mongo-DB JSON Table. \n",
    "## All this is done using Spark and Pandas in Python.\n",
    "\n",
    "\n",
    "\n",
    "## We have used the Medicare Open payments data from a CSV file.\n",
    "## Requirements: Python, Spark, JupyterNotebook, MongoDB Connection."
   ]
  },
  {
   "cell_type": "code",
   "execution_count": null,
   "metadata": {
    "collapsed": true
   },
   "outputs": [],
   "source": []
  },
  {
   "cell_type": "markdown",
   "metadata": {},
   "source": [
    "## Easy way to install spark for jupyter notebook if not already present "
   ]
  },
  {
   "cell_type": "code",
   "execution_count": null,
   "metadata": {
    "collapsed": true
   },
   "outputs": [],
   "source": [
    "import sys\n",
    "!{sys.executable} -m pip install pyspark"
   ]
  },
  {
   "cell_type": "markdown",
   "metadata": {},
   "source": [
    "## Importing SparkSession"
   ]
  },
  {
   "cell_type": "code",
   "execution_count": 1,
   "metadata": {
    "collapsed": true
   },
   "outputs": [],
   "source": [
    "from pyspark.sql import SparkSession"
   ]
  },
  {
   "cell_type": "markdown",
   "metadata": {},
   "source": [
    "## Building SparkSession "
   ]
  },
  {
   "cell_type": "code",
   "execution_count": 2,
   "metadata": {
    "collapsed": true
   },
   "outputs": [],
   "source": [
    "spark = SparkSession.builder.appName('CS 520').getOrCreate()"
   ]
  },
  {
   "cell_type": "markdown",
   "metadata": {},
   "source": [
    "## reading the csv File "
   ]
  },
  {
   "cell_type": "code",
   "execution_count": 3,
   "metadata": {
    "collapsed": false
   },
   "outputs": [],
   "source": [
    "df = spark.read.csv(\"payments.csv\", header = True)"
   ]
  },
  {
   "cell_type": "markdown",
   "metadata": {},
   "source": [
    "## Print the original schema "
   ]
  },
  {
   "cell_type": "code",
   "execution_count": 10,
   "metadata": {
    "collapsed": false
   },
   "outputs": [
    {
     "name": "stdout",
     "output_type": "stream",
     "text": [
      "root\n",
      " |-- Change_Type: string (nullable = true)\n",
      " |-- Covered_Recipient_Type: string (nullable = true)\n",
      " |-- Teaching_Hospital_CCN: string (nullable = true)\n",
      " |-- Teaching_Hospital_ID: string (nullable = true)\n",
      " |-- Teaching_Hospital_Name: string (nullable = true)\n",
      " |-- Physician_Profile_ID: string (nullable = true)\n",
      " |-- Physician_First_Name: string (nullable = true)\n",
      " |-- Physician_Middle_Name: string (nullable = true)\n",
      " |-- Physician_Last_Name: string (nullable = true)\n",
      " |-- Physician_Name_Suffix: string (nullable = true)\n",
      " |-- Recipient_Primary_Business_Street_Address_Line1: string (nullable = true)\n",
      " |-- Recipient_Primary_Business_Street_Address_Line2: string (nullable = true)\n",
      " |-- Recipient_City: string (nullable = true)\n",
      " |-- Recipient_State: string (nullable = true)\n",
      " |-- Recipient_Zip_Code: string (nullable = true)\n",
      " |-- Recipient_Country: string (nullable = true)\n",
      " |-- Recipient_Province: string (nullable = true)\n",
      " |-- Recipient_Postal_Code: string (nullable = true)\n",
      " |-- Physician_Primary_Type: string (nullable = true)\n",
      " |-- Physician_Specialty: string (nullable = true)\n",
      " |-- Physician_License_State_code1: string (nullable = true)\n",
      " |-- Physician_License_State_code2: string (nullable = true)\n",
      " |-- Physician_License_State_code3: string (nullable = true)\n",
      " |-- Physician_License_State_code4: string (nullable = true)\n",
      " |-- Physician_License_State_code5: string (nullable = true)\n",
      " |-- Submitting_Applicable_Manufacturer_or_Applicable_GPO_Name: string (nullable = true)\n",
      " |-- Applicable_Manufacturer_or_Applicable_GPO_Making_Payment_ID: string (nullable = true)\n",
      " |-- Applicable_Manufacturer_or_Applicable_GPO_Making_Payment_Name: string (nullable = true)\n",
      " |-- Applicable_Manufacturer_or_Applicable_GPO_Making_Payment_State: string (nullable = true)\n",
      " |-- Applicable_Manufacturer_or_Applicable_GPO_Making_Payment_Country: string (nullable = true)\n",
      " |-- Total_Amount_of_Payment_USDollars: string (nullable = true)\n",
      " |-- Date_of_Payment: string (nullable = true)\n",
      " |-- Number_of_Payments_Included_in_Total_Amount: string (nullable = true)\n",
      " |-- Form_of_Payment_or_Transfer_of_Value: string (nullable = true)\n",
      " |-- Nature_of_Payment_or_Transfer_of_Value: string (nullable = true)\n",
      " |-- City_of_Travel: string (nullable = true)\n",
      " |-- State_of_Travel: string (nullable = true)\n",
      " |-- Country_of_Travel: string (nullable = true)\n",
      " |-- Physician_Ownership_Indicator: string (nullable = true)\n",
      " |-- Third_Party_Payment_Recipient_Indicator: string (nullable = true)\n",
      " |-- Name_of_Third_Party_Entity_Receiving_Payment_or_Transfer_of_Value: string (nullable = true)\n",
      " |-- Charity_Indicator: string (nullable = true)\n",
      " |-- Third_Party_Equals_Covered_Recipient_Indicator: string (nullable = true)\n",
      " |-- Contextual_Information: string (nullable = true)\n",
      " |-- Delay_in_Publication_Indicator: string (nullable = true)\n",
      " |-- Record_ID: string (nullable = true)\n",
      " |-- Dispute_Status_for_Publication: string (nullable = true)\n",
      " |-- Related_Product_Indicator: string (nullable = true)\n",
      " |-- Covered_or_Noncovered_Indicator_1: string (nullable = true)\n",
      " |-- Indicate_Drug_or_Biological_or_Device_or_Medical_Supply_1: string (nullable = true)\n",
      " |-- Product_Category_or_Therapeutic_Area_1: string (nullable = true)\n",
      " |-- Name_of_Drug_or_Biological_or_Device_or_Medical_Supply_1: string (nullable = true)\n",
      " |-- Associated_Drug_or_Biological_NDC_1: string (nullable = true)\n",
      " |-- Covered_or_Noncovered_Indicator_2: string (nullable = true)\n",
      " |-- Indicate_Drug_or_Biological_or_Device_or_Medical_Supply_2: string (nullable = true)\n",
      " |-- Product_Category_or_Therapeutic_Area_2: string (nullable = true)\n",
      " |-- Name_of_Drug_or_Biological_or_Device_or_Medical_Supply_2: string (nullable = true)\n",
      " |-- Associated_Drug_or_Biological_NDC_2: string (nullable = true)\n",
      " |-- Covered_or_Noncovered_Indicator_3: string (nullable = true)\n",
      " |-- Indicate_Drug_or_Biological_or_Device_or_Medical_Supply_3: string (nullable = true)\n",
      " |-- Product_Category_or_Therapeutic_Area_3: string (nullable = true)\n",
      " |-- Name_of_Drug_or_Biological_or_Device_or_Medical_Supply_3: string (nullable = true)\n",
      " |-- Associated_Drug_or_Biological_NDC_3: string (nullable = true)\n",
      " |-- Covered_or_Noncovered_Indicator_4: string (nullable = true)\n",
      " |-- Indicate_Drug_or_Biological_or_Device_or_Medical_Supply_4: string (nullable = true)\n",
      " |-- Product_Category_or_Therapeutic_Area_4: string (nullable = true)\n",
      " |-- Name_of_Drug_or_Biological_or_Device_or_Medical_Supply_4: string (nullable = true)\n",
      " |-- Associated_Drug_or_Biological_NDC_4: string (nullable = true)\n",
      " |-- Covered_or_Noncovered_Indicator_5: string (nullable = true)\n",
      " |-- Indicate_Drug_or_Biological_or_Device_or_Medical_Supply_5: string (nullable = true)\n",
      " |-- Product_Category_or_Therapeutic_Area_5: string (nullable = true)\n",
      " |-- Name_of_Drug_or_Biological_or_Device_or_Medical_Supply_5: string (nullable = true)\n",
      " |-- Associated_Drug_or_Biological_NDC_5: string (nullable = true)\n",
      " |-- Program_Year: string (nullable = true)\n",
      " |-- Payment_Publication_Date: string (nullable = true)\n",
      "\n"
     ]
    }
   ],
   "source": [
    "df.printSchema()"
   ]
  },
  {
   "cell_type": "markdown",
   "metadata": {},
   "source": [
    "## Changing the data type of Amount from String to Double  "
   ]
  },
  {
   "cell_type": "code",
   "execution_count": 11,
   "metadata": {
    "collapsed": false
   },
   "outputs": [],
   "source": [
    "from pyspark.sql.types import DoubleType\n"
   ]
  },
  {
   "cell_type": "code",
   "execution_count": 12,
   "metadata": {
    "collapsed": true
   },
   "outputs": [],
   "source": [
    "df2 = df.withColumn(\"amount\" , df[\"Total_Amount_of_Payment_USDollars\"].cast(DoubleType()))"
   ]
  },
  {
   "cell_type": "markdown",
   "metadata": {},
   "source": [
    "## Creating a Temporary Payments "
   ]
  },
  {
   "cell_type": "code",
   "execution_count": 13,
   "metadata": {
    "collapsed": true
   },
   "outputs": [],
   "source": [
    "df2.createGlobalTempView(\"payments1\")"
   ]
  },
  {
   "cell_type": "markdown",
   "metadata": {},
   "source": [
    "## We can also specify the schema while importing the file in the below manner "
   ]
  },
  {
   "cell_type": "code",
   "execution_count": 14,
   "metadata": {
    "collapsed": true
   },
   "outputs": [],
   "source": [
    "from pyspark.sql.types import StructField,StringType,IntegerType,StructType"
   ]
  },
  {
   "cell_type": "code",
   "execution_count": 15,
   "metadata": {
    "collapsed": true
   },
   "outputs": [],
   "source": [
    "data_schema = [StructField(\"physician_id\", StringType(), True),StructField(\"date_payment\", StringType(), True),StructField(\"record_id\", StringType(), True),StructField(\"payer\", StringType(), True),StructField(\"amount\", DoubleType(), True),StructField(\"physician_speciality\", StringType(), True),StructField(\"nature_of_payment\", StringType(), True)]"
   ]
  },
  {
   "cell_type": "code",
   "execution_count": 16,
   "metadata": {
    "collapsed": true
   },
   "outputs": [],
   "source": [
    "final_struc = StructType(fields=data_schema)"
   ]
  },
  {
   "cell_type": "markdown",
   "metadata": {},
   "source": [
    "## Selecting only the columns we want and also renaming the Columns as we want "
   ]
  },
  {
   "cell_type": "code",
   "execution_count": 94,
   "metadata": {
    "collapsed": false
   },
   "outputs": [],
   "source": [
    "ds = spark.sql(\"select Physician_Profile_ID as physician_id,Recipient_Primary_Business_Street_Address_Line1 as Address_1,Recipient_Primary_Business_Street_Address_Line2 as Address_2,Recipient_City as City, Recipient_State as State,Recipient_Zip_Code as ZipCode, Date_of_Payment as date_payment, Record_ID as record_id, Applicable_Manufacturer_or_Applicable_GPO_Making_Payment_Name as payer,amount, Physician_Specialty, Nature_of_Payment_or_Transfer_of_Value as Nature_of_payment from global_temp.payments1 where Physician_Profile_ID IS NOT NULL\")"
   ]
  },
  {
   "cell_type": "markdown",
   "metadata": {},
   "source": [
    "## Required Schema "
   ]
  },
  {
   "cell_type": "code",
   "execution_count": 95,
   "metadata": {
    "collapsed": false
   },
   "outputs": [
    {
     "name": "stdout",
     "output_type": "stream",
     "text": [
      "root\n",
      " |-- physician_id: string (nullable = true)\n",
      " |-- Address_1: string (nullable = true)\n",
      " |-- Address_2: string (nullable = true)\n",
      " |-- City: string (nullable = true)\n",
      " |-- State: string (nullable = true)\n",
      " |-- ZipCode: string (nullable = true)\n",
      " |-- date_payment: string (nullable = true)\n",
      " |-- record_id: string (nullable = true)\n",
      " |-- payer: string (nullable = true)\n",
      " |-- amount: double (nullable = true)\n",
      " |-- Physician_Specialty: string (nullable = true)\n",
      " |-- Nature_of_payment: string (nullable = true)\n",
      "\n"
     ]
    }
   ],
   "source": [
    "ds.printSchema()"
   ]
  },
  {
   "cell_type": "code",
   "execution_count": 96,
   "metadata": {
    "collapsed": false
   },
   "outputs": [
    {
     "data": {
      "text/plain": [
       "Row(physician_id='673985', Address_1='726 FOURTH ST', Address_2=None, City='MARYSVILLE', State='CA', ZipCode='95901', date_payment='01/21/2016', record_id='346039414', payer='DFINE, Inc', amount=286.2, Physician_Specialty='Allopathic & Osteopathic Physicians|Anesthesiology', Nature_of_payment='Travel and Lodging')"
      ]
     },
     "execution_count": 96,
     "metadata": {},
     "output_type": "execute_result"
    }
   ],
   "source": [
    "ds.first()"
   ]
  },
  {
   "cell_type": "markdown",
   "metadata": {},
   "source": [
    "## Replacing the temporary view with our new view "
   ]
  },
  {
   "cell_type": "code",
   "execution_count": 97,
   "metadata": {
    "collapsed": false
   },
   "outputs": [],
   "source": [
    "ds.createOrReplaceGlobalTempView(\"payments\")"
   ]
  },
  {
   "cell_type": "markdown",
   "metadata": {},
   "source": [
    "## Sample data "
   ]
  },
  {
   "cell_type": "code",
   "execution_count": 98,
   "metadata": {
    "collapsed": false
   },
   "outputs": [
    {
     "name": "stdout",
     "output_type": "stream",
     "text": [
      "+------------+--------------------+----------+-----------+-----+-------+------------+---------+----------+------+--------------------+------------------+\n",
      "|physician_id|           Address_1| Address_2|       City|State|ZipCode|date_payment|record_id|     payer|amount| Physician_Specialty| Nature_of_payment|\n",
      "+------------+--------------------+----------+-----------+-----+-------+------------+---------+----------+------+--------------------+------------------+\n",
      "|      673985|       726 FOURTH ST|      null| MARYSVILLE|   CA|  95901|  01/21/2016|346039414|DFINE, Inc| 286.2|Allopathic & Oste...|Travel and Lodging|\n",
      "|      673985|       726 FOURTH ST|      null| MARYSVILLE|   CA|  95901|  01/21/2016|346039416|DFINE, Inc|  25.0|Allopathic & Oste...|Travel and Lodging|\n",
      "|      673985|       726 FOURTH ST|      null| MARYSVILLE|   CA|  95901|  02/19/2016|346039418|DFINE, Inc| 27.27|Allopathic & Oste...|Travel and Lodging|\n",
      "|       93975|        9601 LILE DR|SUITE 1100|LITTLE ROCK|   AR|  72205|  04/15/2016|346039420|DFINE, Inc|  21.6|Allopathic & Oste...| Food and Beverage|\n",
      "|      275444|  1214 RICHARDSON ST|      null| PORT HURON|   MI|  48060|  04/29/2016|346039422|DFINE, Inc| 22.57|Allopathic & Oste...| Food and Beverage|\n",
      "|      132655|     8745 AERO DRIVE|   STE 200|  SAN DIEGO|   CA|  92123|  02/05/2016|346039424|DFINE, Inc| 780.7|Allopathic & Oste...|Travel and Lodging|\n",
      "|      132655|     8745 AERO DRIVE|   STE 200|  SAN DIEGO|   CA|  92123|  02/05/2016|346039426|DFINE, Inc|  25.0|Allopathic & Oste...|Travel and Lodging|\n",
      "|      132655|     8745 AERO DRIVE|   STE 200|  SAN DIEGO|   CA|  92123|  02/19/2016|346039428|DFINE, Inc| 27.27|Allopathic & Oste...|Travel and Lodging|\n",
      "|      132655|     8745 AERO DRIVE|   STE 200|  SAN DIEGO|   CA|  92123|  02/18/2016|346039430|DFINE, Inc| 114.0|Allopathic & Oste...|Travel and Lodging|\n",
      "|      132655|     8745 AERO DRIVE|   STE 200|  SAN DIEGO|   CA|  92123|  04/18/2016|346039432|DFINE, Inc|122.49|Allopathic & Oste...| Food and Beverage|\n",
      "|      132655|     8745 AERO DRIVE|   STE 200|  SAN DIEGO|   CA|  92123|  03/15/2016|346039434|DFINE, Inc| 103.5|Allopathic & Oste...| Food and Beverage|\n",
      "|      132655|     8745 AERO DRIVE|   STE 200|  SAN DIEGO|   CA|  92123|  09/06/2016|346039436|DFINE, Inc| 90.91|Allopathic & Oste...| Food and Beverage|\n",
      "|      132655|     8745 AERO DRIVE|   STE 200|  SAN DIEGO|   CA|  92123|  02/12/2016|346039438|DFINE, Inc| 90.87|Allopathic & Oste...| Food and Beverage|\n",
      "|      132655|     8745 AERO DRIVE|   STE 200|  SAN DIEGO|   CA|  92123|  02/13/2016|346039440|DFINE, Inc| 23.45|Allopathic & Oste...| Food and Beverage|\n",
      "|     1006832|10401 W THUNDERBI...|      null|   SUN CITY|   AZ|  85351|  02/13/2016|346039442|DFINE, Inc|  32.0|Allopathic & Oste...|Travel and Lodging|\n",
      "|     1006832|10401 W THUNDERBI...|      null|   SUN CITY|   AZ|  85351|  01/26/2016|346039444|DFINE, Inc| 630.2|Allopathic & Oste...|Travel and Lodging|\n",
      "|     1006832|10401 W THUNDERBI...|      null|   SUN CITY|   AZ|  85351|  01/26/2016|346039446|DFINE, Inc|  25.0|Allopathic & Oste...|Travel and Lodging|\n",
      "|     1006832|10401 W THUNDERBI...|      null|   SUN CITY|   AZ|  85351|  02/12/2016|346039448|DFINE, Inc|  59.8|Allopathic & Oste...|Travel and Lodging|\n",
      "|     1006832|10401 W THUNDERBI...|      null|   SUN CITY|   AZ|  85351|  02/19/2016|346039450|DFINE, Inc| 27.27|Allopathic & Oste...|Travel and Lodging|\n",
      "|     1006832|10401 W THUNDERBI...|      null|   SUN CITY|   AZ|  85351|  02/12/2016|346039452|DFINE, Inc| 10.75|Allopathic & Oste...| Food and Beverage|\n",
      "+------------+--------------------+----------+-----------+-----+-------+------------+---------+----------+------+--------------------+------------------+\n",
      "only showing top 20 rows\n",
      "\n"
     ]
    }
   ],
   "source": [
    "ds.show()"
   ]
  },
  {
   "cell_type": "markdown",
   "metadata": {},
   "source": [
    "## Filling null values in Address_2 with space "
   ]
  },
  {
   "cell_type": "code",
   "execution_count": 99,
   "metadata": {
    "collapsed": true
   },
   "outputs": [],
   "source": [
    "ds = ds.na.fill('')"
   ]
  },
  {
   "cell_type": "code",
   "execution_count": 100,
   "metadata": {
    "collapsed": false
   },
   "outputs": [
    {
     "name": "stdout",
     "output_type": "stream",
     "text": [
      "+------------+--------------------+----------+-----------+-----+-------+------------+---------+----------+------+--------------------+------------------+\n",
      "|physician_id|           Address_1| Address_2|       City|State|ZipCode|date_payment|record_id|     payer|amount| Physician_Specialty| Nature_of_payment|\n",
      "+------------+--------------------+----------+-----------+-----+-------+------------+---------+----------+------+--------------------+------------------+\n",
      "|      673985|       726 FOURTH ST|          | MARYSVILLE|   CA|  95901|  01/21/2016|346039414|DFINE, Inc| 286.2|Allopathic & Oste...|Travel and Lodging|\n",
      "|      673985|       726 FOURTH ST|          | MARYSVILLE|   CA|  95901|  01/21/2016|346039416|DFINE, Inc|  25.0|Allopathic & Oste...|Travel and Lodging|\n",
      "|      673985|       726 FOURTH ST|          | MARYSVILLE|   CA|  95901|  02/19/2016|346039418|DFINE, Inc| 27.27|Allopathic & Oste...|Travel and Lodging|\n",
      "|       93975|        9601 LILE DR|SUITE 1100|LITTLE ROCK|   AR|  72205|  04/15/2016|346039420|DFINE, Inc|  21.6|Allopathic & Oste...| Food and Beverage|\n",
      "|      275444|  1214 RICHARDSON ST|          | PORT HURON|   MI|  48060|  04/29/2016|346039422|DFINE, Inc| 22.57|Allopathic & Oste...| Food and Beverage|\n",
      "|      132655|     8745 AERO DRIVE|   STE 200|  SAN DIEGO|   CA|  92123|  02/05/2016|346039424|DFINE, Inc| 780.7|Allopathic & Oste...|Travel and Lodging|\n",
      "|      132655|     8745 AERO DRIVE|   STE 200|  SAN DIEGO|   CA|  92123|  02/05/2016|346039426|DFINE, Inc|  25.0|Allopathic & Oste...|Travel and Lodging|\n",
      "|      132655|     8745 AERO DRIVE|   STE 200|  SAN DIEGO|   CA|  92123|  02/19/2016|346039428|DFINE, Inc| 27.27|Allopathic & Oste...|Travel and Lodging|\n",
      "|      132655|     8745 AERO DRIVE|   STE 200|  SAN DIEGO|   CA|  92123|  02/18/2016|346039430|DFINE, Inc| 114.0|Allopathic & Oste...|Travel and Lodging|\n",
      "|      132655|     8745 AERO DRIVE|   STE 200|  SAN DIEGO|   CA|  92123|  04/18/2016|346039432|DFINE, Inc|122.49|Allopathic & Oste...| Food and Beverage|\n",
      "|      132655|     8745 AERO DRIVE|   STE 200|  SAN DIEGO|   CA|  92123|  03/15/2016|346039434|DFINE, Inc| 103.5|Allopathic & Oste...| Food and Beverage|\n",
      "|      132655|     8745 AERO DRIVE|   STE 200|  SAN DIEGO|   CA|  92123|  09/06/2016|346039436|DFINE, Inc| 90.91|Allopathic & Oste...| Food and Beverage|\n",
      "|      132655|     8745 AERO DRIVE|   STE 200|  SAN DIEGO|   CA|  92123|  02/12/2016|346039438|DFINE, Inc| 90.87|Allopathic & Oste...| Food and Beverage|\n",
      "|      132655|     8745 AERO DRIVE|   STE 200|  SAN DIEGO|   CA|  92123|  02/13/2016|346039440|DFINE, Inc| 23.45|Allopathic & Oste...| Food and Beverage|\n",
      "|     1006832|10401 W THUNDERBI...|          |   SUN CITY|   AZ|  85351|  02/13/2016|346039442|DFINE, Inc|  32.0|Allopathic & Oste...|Travel and Lodging|\n",
      "|     1006832|10401 W THUNDERBI...|          |   SUN CITY|   AZ|  85351|  01/26/2016|346039444|DFINE, Inc| 630.2|Allopathic & Oste...|Travel and Lodging|\n",
      "|     1006832|10401 W THUNDERBI...|          |   SUN CITY|   AZ|  85351|  01/26/2016|346039446|DFINE, Inc|  25.0|Allopathic & Oste...|Travel and Lodging|\n",
      "|     1006832|10401 W THUNDERBI...|          |   SUN CITY|   AZ|  85351|  02/12/2016|346039448|DFINE, Inc|  59.8|Allopathic & Oste...|Travel and Lodging|\n",
      "|     1006832|10401 W THUNDERBI...|          |   SUN CITY|   AZ|  85351|  02/19/2016|346039450|DFINE, Inc| 27.27|Allopathic & Oste...|Travel and Lodging|\n",
      "|     1006832|10401 W THUNDERBI...|          |   SUN CITY|   AZ|  85351|  02/12/2016|346039452|DFINE, Inc| 10.75|Allopathic & Oste...| Food and Beverage|\n",
      "+------------+--------------------+----------+-----------+-----+-------+------------+---------+----------+------+--------------------+------------------+\n",
      "only showing top 20 rows\n",
      "\n"
     ]
    }
   ],
   "source": [
    "ds.show()"
   ]
  },
  {
   "cell_type": "markdown",
   "metadata": {},
   "source": [
    "## Combining Address_1, Address_2, City, State, ZipCode to one column Address "
   ]
  },
  {
   "cell_type": "code",
   "execution_count": 101,
   "metadata": {
    "collapsed": true
   },
   "outputs": [],
   "source": [
    "from pyspark.sql import functions as sf\n",
    "ds = ds.withColumn('Address', \n",
    "                    sf.concat(sf.col('Address_1'),sf.lit(','), sf.col('Address_2'),sf.lit(' '), sf.col('City'),sf.lit(','), sf.col('State'),sf.lit('-'), sf.col('ZipCode')))"
   ]
  },
  {
   "cell_type": "code",
   "execution_count": 103,
   "metadata": {
    "collapsed": true
   },
   "outputs": [],
   "source": [
    "ds = ds.drop(\"Address_1\" , \"Address_2\" , \"City\", \"State\", \"ZipCode\")"
   ]
  },
  {
   "cell_type": "code",
   "execution_count": 104,
   "metadata": {
    "collapsed": false
   },
   "outputs": [
    {
     "name": "stdout",
     "output_type": "stream",
     "text": [
      "+------------+------------+---------+----------+------+--------------------+------------------+--------------------+\n",
      "|physician_id|date_payment|record_id|     payer|amount| Physician_Specialty| Nature_of_payment|             Address|\n",
      "+------------+------------+---------+----------+------+--------------------+------------------+--------------------+\n",
      "|      673985|  01/21/2016|346039414|DFINE, Inc| 286.2|Allopathic & Oste...|Travel and Lodging|726 FOURTH ST, MA...|\n",
      "|      673985|  01/21/2016|346039416|DFINE, Inc|  25.0|Allopathic & Oste...|Travel and Lodging|726 FOURTH ST, MA...|\n",
      "|      673985|  02/19/2016|346039418|DFINE, Inc| 27.27|Allopathic & Oste...|Travel and Lodging|726 FOURTH ST, MA...|\n",
      "|       93975|  04/15/2016|346039420|DFINE, Inc|  21.6|Allopathic & Oste...| Food and Beverage|9601 LILE DR,SUIT...|\n",
      "|      275444|  04/29/2016|346039422|DFINE, Inc| 22.57|Allopathic & Oste...| Food and Beverage|1214 RICHARDSON S...|\n",
      "|      132655|  02/05/2016|346039424|DFINE, Inc| 780.7|Allopathic & Oste...|Travel and Lodging|8745 AERO DRIVE,S...|\n",
      "|      132655|  02/05/2016|346039426|DFINE, Inc|  25.0|Allopathic & Oste...|Travel and Lodging|8745 AERO DRIVE,S...|\n",
      "|      132655|  02/19/2016|346039428|DFINE, Inc| 27.27|Allopathic & Oste...|Travel and Lodging|8745 AERO DRIVE,S...|\n",
      "|      132655|  02/18/2016|346039430|DFINE, Inc| 114.0|Allopathic & Oste...|Travel and Lodging|8745 AERO DRIVE,S...|\n",
      "|      132655|  04/18/2016|346039432|DFINE, Inc|122.49|Allopathic & Oste...| Food and Beverage|8745 AERO DRIVE,S...|\n",
      "|      132655|  03/15/2016|346039434|DFINE, Inc| 103.5|Allopathic & Oste...| Food and Beverage|8745 AERO DRIVE,S...|\n",
      "|      132655|  09/06/2016|346039436|DFINE, Inc| 90.91|Allopathic & Oste...| Food and Beverage|8745 AERO DRIVE,S...|\n",
      "|      132655|  02/12/2016|346039438|DFINE, Inc| 90.87|Allopathic & Oste...| Food and Beverage|8745 AERO DRIVE,S...|\n",
      "|      132655|  02/13/2016|346039440|DFINE, Inc| 23.45|Allopathic & Oste...| Food and Beverage|8745 AERO DRIVE,S...|\n",
      "|     1006832|  02/13/2016|346039442|DFINE, Inc|  32.0|Allopathic & Oste...|Travel and Lodging|10401 W THUNDERBI...|\n",
      "|     1006832|  01/26/2016|346039444|DFINE, Inc| 630.2|Allopathic & Oste...|Travel and Lodging|10401 W THUNDERBI...|\n",
      "|     1006832|  01/26/2016|346039446|DFINE, Inc|  25.0|Allopathic & Oste...|Travel and Lodging|10401 W THUNDERBI...|\n",
      "|     1006832|  02/12/2016|346039448|DFINE, Inc|  59.8|Allopathic & Oste...|Travel and Lodging|10401 W THUNDERBI...|\n",
      "|     1006832|  02/19/2016|346039450|DFINE, Inc| 27.27|Allopathic & Oste...|Travel and Lodging|10401 W THUNDERBI...|\n",
      "|     1006832|  02/12/2016|346039452|DFINE, Inc| 10.75|Allopathic & Oste...| Food and Beverage|10401 W THUNDERBI...|\n",
      "+------------+------------+---------+----------+------+--------------------+------------------+--------------------+\n",
      "only showing top 20 rows\n",
      "\n"
     ]
    }
   ],
   "source": [
    "ds.show()"
   ]
  },
  {
   "cell_type": "markdown",
   "metadata": {},
   "source": [
    "## Sample first Row "
   ]
  },
  {
   "cell_type": "code",
   "execution_count": 105,
   "metadata": {
    "collapsed": false
   },
   "outputs": [
    {
     "data": {
      "text/plain": [
       "Row(physician_id='673985', date_payment='01/21/2016', record_id='346039414', payer='DFINE, Inc', amount=286.2, Physician_Specialty='Allopathic & Osteopathic Physicians|Anesthesiology', Nature_of_payment='Travel and Lodging', Address='726 FOURTH ST, MARYSVILLE,CA-95901')"
      ]
     },
     "execution_count": 105,
     "metadata": {},
     "output_type": "execute_result"
    }
   ],
   "source": [
    "ds.first()"
   ]
  },
  {
   "cell_type": "markdown",
   "metadata": {},
   "source": [
    "## Changing the type of date from string to date format and also changing format from mm/dd/yyyy to yyyy-mm-dd (unix timestamp) format"
   ]
  },
  {
   "cell_type": "code",
   "execution_count": 106,
   "metadata": {
    "collapsed": false
   },
   "outputs": [],
   "source": [
    "from pyspark.sql.functions import to_date\n",
    "from pyspark.sql.functions import unix_timestamp\n",
    "\n",
    "ds =ds.withColumn(\"date_payment\", to_date(unix_timestamp(ds[\"date_payment\"], \"MM/dd/yyyy\").cast(\"timestamp\")))\n"
   ]
  },
  {
   "cell_type": "code",
   "execution_count": 122,
   "metadata": {
    "collapsed": false
   },
   "outputs": [
    {
     "name": "stdout",
     "output_type": "stream",
     "text": [
      "root\n",
      " |-- physician_id: string (nullable = false)\n",
      " |-- date_payment: date (nullable = true)\n",
      " |-- record_id: string (nullable = false)\n",
      " |-- payer: string (nullable = false)\n",
      " |-- amount: string (nullable = true)\n",
      " |-- Physician_Specialty: string (nullable = false)\n",
      " |-- Nature_of_payment: string (nullable = false)\n",
      " |-- Address: string (nullable = false)\n",
      "\n"
     ]
    }
   ],
   "source": [
    "ds.printSchema()"
   ]
  },
  {
   "cell_type": "code",
   "execution_count": 108,
   "metadata": {
    "collapsed": false
   },
   "outputs": [
    {
     "name": "stdout",
     "output_type": "stream",
     "text": [
      "+------------+------------+---------+----------+------+--------------------+------------------+--------------------+\n",
      "|physician_id|date_payment|record_id|     payer|amount| Physician_Specialty| Nature_of_payment|             Address|\n",
      "+------------+------------+---------+----------+------+--------------------+------------------+--------------------+\n",
      "|      673985|  2016-01-21|346039414|DFINE, Inc| 286.2|Allopathic & Oste...|Travel and Lodging|726 FOURTH ST, MA...|\n",
      "|      673985|  2016-01-21|346039416|DFINE, Inc|  25.0|Allopathic & Oste...|Travel and Lodging|726 FOURTH ST, MA...|\n",
      "|      673985|  2016-02-19|346039418|DFINE, Inc| 27.27|Allopathic & Oste...|Travel and Lodging|726 FOURTH ST, MA...|\n",
      "|       93975|  2016-04-15|346039420|DFINE, Inc|  21.6|Allopathic & Oste...| Food and Beverage|9601 LILE DR,SUIT...|\n",
      "|      275444|  2016-04-29|346039422|DFINE, Inc| 22.57|Allopathic & Oste...| Food and Beverage|1214 RICHARDSON S...|\n",
      "|      132655|  2016-02-05|346039424|DFINE, Inc| 780.7|Allopathic & Oste...|Travel and Lodging|8745 AERO DRIVE,S...|\n",
      "|      132655|  2016-02-05|346039426|DFINE, Inc|  25.0|Allopathic & Oste...|Travel and Lodging|8745 AERO DRIVE,S...|\n",
      "|      132655|  2016-02-19|346039428|DFINE, Inc| 27.27|Allopathic & Oste...|Travel and Lodging|8745 AERO DRIVE,S...|\n",
      "|      132655|  2016-02-18|346039430|DFINE, Inc| 114.0|Allopathic & Oste...|Travel and Lodging|8745 AERO DRIVE,S...|\n",
      "|      132655|  2016-04-18|346039432|DFINE, Inc|122.49|Allopathic & Oste...| Food and Beverage|8745 AERO DRIVE,S...|\n",
      "|      132655|  2016-03-15|346039434|DFINE, Inc| 103.5|Allopathic & Oste...| Food and Beverage|8745 AERO DRIVE,S...|\n",
      "|      132655|  2016-09-06|346039436|DFINE, Inc| 90.91|Allopathic & Oste...| Food and Beverage|8745 AERO DRIVE,S...|\n",
      "|      132655|  2016-02-12|346039438|DFINE, Inc| 90.87|Allopathic & Oste...| Food and Beverage|8745 AERO DRIVE,S...|\n",
      "|      132655|  2016-02-13|346039440|DFINE, Inc| 23.45|Allopathic & Oste...| Food and Beverage|8745 AERO DRIVE,S...|\n",
      "|     1006832|  2016-02-13|346039442|DFINE, Inc|  32.0|Allopathic & Oste...|Travel and Lodging|10401 W THUNDERBI...|\n",
      "|     1006832|  2016-01-26|346039444|DFINE, Inc| 630.2|Allopathic & Oste...|Travel and Lodging|10401 W THUNDERBI...|\n",
      "|     1006832|  2016-01-26|346039446|DFINE, Inc|  25.0|Allopathic & Oste...|Travel and Lodging|10401 W THUNDERBI...|\n",
      "|     1006832|  2016-02-12|346039448|DFINE, Inc|  59.8|Allopathic & Oste...|Travel and Lodging|10401 W THUNDERBI...|\n",
      "|     1006832|  2016-02-19|346039450|DFINE, Inc| 27.27|Allopathic & Oste...|Travel and Lodging|10401 W THUNDERBI...|\n",
      "|     1006832|  2016-02-12|346039452|DFINE, Inc| 10.75|Allopathic & Oste...| Food and Beverage|10401 W THUNDERBI...|\n",
      "+------------+------------+---------+----------+------+--------------------+------------------+--------------------+\n",
      "only showing top 20 rows\n",
      "\n"
     ]
    }
   ],
   "source": [
    "ds.show()"
   ]
  },
  {
   "cell_type": "code",
   "execution_count": 109,
   "metadata": {
    "collapsed": true
   },
   "outputs": [],
   "source": [
    "ds.createOrReplaceGlobalTempView(\"payments\")"
   ]
  },
  {
   "cell_type": "code",
   "execution_count": 92,
   "metadata": {
    "collapsed": false
   },
   "outputs": [
    {
     "data": {
      "text/plain": [
       "11258361"
      ]
     },
     "execution_count": 92,
     "metadata": {},
     "output_type": "execute_result"
    }
   ],
   "source": [
    "ds.count()"
   ]
  },
  {
   "cell_type": "markdown",
   "metadata": {},
   "source": [
    "## Rounding off amount to one decimal "
   ]
  },
  {
   "cell_type": "code",
   "execution_count": 138,
   "metadata": {
    "collapsed": true
   },
   "outputs": [],
   "source": [
    "from pyspark.sql.functions import format_number\n"
   ]
  },
  {
   "cell_type": "code",
   "execution_count": 139,
   "metadata": {
    "collapsed": false
   },
   "outputs": [],
   "source": [
    "ds = ds.withColumn(\"amount\" , bround(ds[\"amount\"],1))\n"
   ]
  },
  {
   "cell_type": "code",
   "execution_count": 140,
   "metadata": {
    "collapsed": false
   },
   "outputs": [
    {
     "name": "stdout",
     "output_type": "stream",
     "text": [
      "+------------+------------+---------+----------+------+--------------------+------------------+--------------------+\n",
      "|physician_id|date_payment|record_id|     payer|amount| Physician_Specialty| Nature_of_payment|             Address|\n",
      "+------------+------------+---------+----------+------+--------------------+------------------+--------------------+\n",
      "|      673985|  2016-01-21|346039414|DFINE, Inc| 286.2|Allopathic & Oste...|Travel and Lodging|726 FOURTH ST, MA...|\n",
      "|      673985|  2016-01-21|346039416|DFINE, Inc|  25.0|Allopathic & Oste...|Travel and Lodging|726 FOURTH ST, MA...|\n",
      "|      673985|  2016-02-19|346039418|DFINE, Inc|  27.3|Allopathic & Oste...|Travel and Lodging|726 FOURTH ST, MA...|\n",
      "|       93975|  2016-04-15|346039420|DFINE, Inc|  21.6|Allopathic & Oste...| Food and Beverage|9601 LILE DR,SUIT...|\n",
      "|      275444|  2016-04-29|346039422|DFINE, Inc|  22.6|Allopathic & Oste...| Food and Beverage|1214 RICHARDSON S...|\n",
      "|      132655|  2016-02-05|346039424|DFINE, Inc| 780.7|Allopathic & Oste...|Travel and Lodging|8745 AERO DRIVE,S...|\n",
      "|      132655|  2016-02-05|346039426|DFINE, Inc|  25.0|Allopathic & Oste...|Travel and Lodging|8745 AERO DRIVE,S...|\n",
      "|      132655|  2016-02-19|346039428|DFINE, Inc|  27.3|Allopathic & Oste...|Travel and Lodging|8745 AERO DRIVE,S...|\n",
      "|      132655|  2016-02-18|346039430|DFINE, Inc| 114.0|Allopathic & Oste...|Travel and Lodging|8745 AERO DRIVE,S...|\n",
      "|      132655|  2016-04-18|346039432|DFINE, Inc| 122.5|Allopathic & Oste...| Food and Beverage|8745 AERO DRIVE,S...|\n",
      "|      132655|  2016-03-15|346039434|DFINE, Inc| 103.5|Allopathic & Oste...| Food and Beverage|8745 AERO DRIVE,S...|\n",
      "|      132655|  2016-09-06|346039436|DFINE, Inc|  90.9|Allopathic & Oste...| Food and Beverage|8745 AERO DRIVE,S...|\n",
      "|      132655|  2016-02-12|346039438|DFINE, Inc|  90.9|Allopathic & Oste...| Food and Beverage|8745 AERO DRIVE,S...|\n",
      "|      132655|  2016-02-13|346039440|DFINE, Inc|  23.4|Allopathic & Oste...| Food and Beverage|8745 AERO DRIVE,S...|\n",
      "|     1006832|  2016-02-13|346039442|DFINE, Inc|  32.0|Allopathic & Oste...|Travel and Lodging|10401 W THUNDERBI...|\n",
      "|     1006832|  2016-01-26|346039444|DFINE, Inc| 630.2|Allopathic & Oste...|Travel and Lodging|10401 W THUNDERBI...|\n",
      "|     1006832|  2016-01-26|346039446|DFINE, Inc|  25.0|Allopathic & Oste...|Travel and Lodging|10401 W THUNDERBI...|\n",
      "|     1006832|  2016-02-12|346039448|DFINE, Inc|  59.8|Allopathic & Oste...|Travel and Lodging|10401 W THUNDERBI...|\n",
      "|     1006832|  2016-02-19|346039450|DFINE, Inc|  27.3|Allopathic & Oste...|Travel and Lodging|10401 W THUNDERBI...|\n",
      "|     1006832|  2016-02-12|346039452|DFINE, Inc|  10.8|Allopathic & Oste...| Food and Beverage|10401 W THUNDERBI...|\n",
      "+------------+------------+---------+----------+------+--------------------+------------------+--------------------+\n",
      "only showing top 20 rows\n",
      "\n"
     ]
    }
   ],
   "source": [
    "ds.show()"
   ]
  },
  {
   "cell_type": "code",
   "execution_count": 141,
   "metadata": {
    "collapsed": false
   },
   "outputs": [
    {
     "name": "stdout",
     "output_type": "stream",
     "text": [
      "root\n",
      " |-- physician_id: string (nullable = false)\n",
      " |-- date_payment: date (nullable = true)\n",
      " |-- record_id: string (nullable = false)\n",
      " |-- payer: string (nullable = false)\n",
      " |-- amount: double (nullable = true)\n",
      " |-- Physician_Specialty: string (nullable = false)\n",
      " |-- Nature_of_payment: string (nullable = false)\n",
      " |-- Address: string (nullable = false)\n",
      "\n"
     ]
    }
   ],
   "source": [
    "ds.printSchema()"
   ]
  },
  {
   "cell_type": "markdown",
   "metadata": {},
   "source": [
    "## Querying and Exploring the data  \n",
    "\n",
    "## Querying can be done in two ways. One by using Spark functions and other directly by writing SQl statements. Both the ways are used below. "
   ]
  },
  {
   "cell_type": "markdown",
   "metadata": {},
   "source": [
    "### Top 10 nature of accounts with payments by count  "
   ]
  },
  {
   "cell_type": "code",
   "execution_count": 142,
   "metadata": {
    "collapsed": false
   },
   "outputs": [
    {
     "name": "stdout",
     "output_type": "stream",
     "text": [
      "+--------------------+-------+\n",
      "|   Nature_of_Payment|  count|\n",
      "+--------------------+-------+\n",
      "|   Food and Beverage|9975364|\n",
      "|  Travel and Lodging| 575255|\n",
      "|Compensation for ...| 251440|\n",
      "|           Education| 245515|\n",
      "|      Consulting Fee| 115316|\n",
      "|                Gift|  41523|\n",
      "|           Honoraria|  17795|\n",
      "|  Royalty or License|  11814|\n",
      "|Compensation for ...|   9171|\n",
      "|       Entertainment|   8408|\n",
      "+--------------------+-------+\n",
      "only showing top 10 rows\n",
      "\n"
     ]
    }
   ],
   "source": [
    "from pyspark.sql.functions import desc\n",
    "ds.groupBy(ds[\"Nature_of_Payment\"]).count().orderBy(desc(\"count\")).show(10)"
   ]
  },
  {
   "cell_type": "markdown",
   "metadata": {},
   "source": [
    "### Nature of payments with payments  > $500 with their counts"
   ]
  },
  {
   "cell_type": "code",
   "execution_count": 150,
   "metadata": {
    "collapsed": false
   },
   "outputs": [
    {
     "name": "stdout",
     "output_type": "stream",
     "text": [
      "+--------------------+-----+\n",
      "|   Nature_of_Payment|count|\n",
      "+--------------------+-----+\n",
      "|           Education| 3487|\n",
      "|       Entertainment|   76|\n",
      "|  Travel and Lodging|79488|\n",
      "|Charitable Contri...|   35|\n",
      "|Current or prospe...|   50|\n",
      "|           Honoraria| 1114|\n",
      "|               Grant|  268|\n",
      "|Compensation for ...|   67|\n",
      "|  Royalty or License|  881|\n",
      "|Compensation for ...| 2242|\n",
      "|   Food and Beverage| 2689|\n",
      "|Compensation for ...|15126|\n",
      "|      Consulting Fee|13018|\n",
      "|                Gift| 1034|\n",
      "+--------------------+-----+\n",
      "\n"
     ]
    }
   ],
   "source": [
    "ds.filter(ds[\"amount\"] > 500.0).groupBy(ds[\"Nature_of_Payment\"]).count().show()"
   ]
  },
  {
   "cell_type": "markdown",
   "metadata": {},
   "source": [
    "### Top five Physicain specialites by total amount "
   ]
  },
  {
   "cell_type": "code",
   "execution_count": 145,
   "metadata": {
    "collapsed": true
   },
   "outputs": [],
   "source": [
    "from pyspark.sql.functions import sum"
   ]
  },
  {
   "cell_type": "code",
   "execution_count": 146,
   "metadata": {
    "collapsed": false
   },
   "outputs": [
    {
     "name": "stdout",
     "output_type": "stream",
     "text": [
      "+------------+--------------------+\n",
      "|physician_id|             revenue|\n",
      "+------------+--------------------+\n",
      "|      288926|       2.183833534E7|\n",
      "|      311622|1.9940975750000004E7|\n",
      "|      327184|1.3732734540000003E7|\n",
      "|      281659|         1.3202939E7|\n",
      "|       32719|1.2149519940000001E7|\n",
      "+------------+--------------------+\n",
      "\n"
     ]
    }
   ],
   "source": [
    "spark.sql (\"select physician_id , sum(amount) as revenue from global_temp.payments group by physician_id order by revenue desc limit 5\").show() "
   ]
  },
  {
   "cell_type": "markdown",
   "metadata": {},
   "source": [
    "### Top 10  nature of payments by total amount"
   ]
  },
  {
   "cell_type": "code",
   "execution_count": 147,
   "metadata": {
    "collapsed": false
   },
   "outputs": [
    {
     "name": "stdout",
     "output_type": "stream",
     "text": [
      "+--------------------+--------------------+\n",
      "|   Nature_of_payment|               total|\n",
      "+--------------------+--------------------+\n",
      "|Compensation for ...| 5.618398276899997E8|\n",
      "|  Royalty or License| 4.892801498499998E8|\n",
      "|      Consulting Fee|3.6266093983000004E8|\n",
      "|   Food and Beverage|2.4166747336000344E8|\n",
      "|  Travel and Lodging|1.9028856042000213E8|\n",
      "|Current or prospe...|6.2862144450000025E7|\n",
      "|           Honoraria|       4.392361441E7|\n",
      "|           Education| 3.895051414999967E7|\n",
      "|               Grant|       2.389616791E7|\n",
      "|Compensation for ...|       2.006624783E7|\n",
      "+--------------------+--------------------+\n",
      "\n"
     ]
    }
   ],
   "source": [
    "spark.sql(\"select Nature_of_payment , sum(amount) as total from global_temp.payments group by Nature_of_payment order by total desc limit 10\").show()"
   ]
  },
  {
   "cell_type": "markdown",
   "metadata": {
    "collapsed": true
   },
   "source": [
    "## Average amount of payment  in each month "
   ]
  },
  {
   "cell_type": "code",
   "execution_count": 148,
   "metadata": {
    "collapsed": true
   },
   "outputs": [],
   "source": [
    "from pyspark.sql.functions import format_number,dayofmonth,hour,dayofyear,month,year,weekofyear,date_format"
   ]
  },
  {
   "cell_type": "code",
   "execution_count": 149,
   "metadata": {
    "collapsed": false
   },
   "outputs": [
    {
     "name": "stdout",
     "output_type": "stream",
     "text": [
      "+-------------------+------------------+\n",
      "|month(date_payment)|       avg(amount)|\n",
      "+-------------------+------------------+\n",
      "|                 12| 40.57908835217251|\n",
      "|               null|               1.0|\n",
      "|                  1| 37.19044951294319|\n",
      "|                  6| 39.80850109903817|\n",
      "|                  3|40.216438564786664|\n",
      "|                  5| 40.18545214570404|\n",
      "|                  9| 39.49735599469411|\n",
      "|                  4| 41.62322929397568|\n",
      "|                  8|35.482128729075725|\n",
      "|                  7| 35.92725206903188|\n",
      "|                 10|41.045018935882496|\n",
      "|                 11| 39.72110302852038|\n",
      "|                  2|  39.0201135756034|\n",
      "+-------------------+------------------+\n",
      "\n"
     ]
    }
   ],
   "source": [
    "ds.groupBy(month(ds['date_payment'])).mean().show()"
   ]
  },
  {
   "cell_type": "markdown",
   "metadata": {},
   "source": [
    "## Installing pymongo "
   ]
  },
  {
   "cell_type": "code",
   "execution_count": null,
   "metadata": {
    "collapsed": false
   },
   "outputs": [],
   "source": [
    "import sys\n",
    "!{sys.executable} -m pip install pymongo"
   ]
  },
  {
   "cell_type": "code",
   "execution_count": 151,
   "metadata": {
    "collapsed": false
   },
   "outputs": [
    {
     "name": "stdout",
     "output_type": "stream",
     "text": [
      "+------------+------------+---------+----------+------+--------------------+------------------+--------------------+\n",
      "|physician_id|date_payment|record_id|     payer|amount| Physician_Specialty| Nature_of_payment|             Address|\n",
      "+------------+------------+---------+----------+------+--------------------+------------------+--------------------+\n",
      "|      673985|  2016-01-21|346039414|DFINE, Inc| 286.2|Allopathic & Oste...|Travel and Lodging|726 FOURTH ST, MA...|\n",
      "|      673985|  2016-01-21|346039416|DFINE, Inc|  25.0|Allopathic & Oste...|Travel and Lodging|726 FOURTH ST, MA...|\n",
      "|      673985|  2016-02-19|346039418|DFINE, Inc|  27.3|Allopathic & Oste...|Travel and Lodging|726 FOURTH ST, MA...|\n",
      "|       93975|  2016-04-15|346039420|DFINE, Inc|  21.6|Allopathic & Oste...| Food and Beverage|9601 LILE DR,SUIT...|\n",
      "|      275444|  2016-04-29|346039422|DFINE, Inc|  22.6|Allopathic & Oste...| Food and Beverage|1214 RICHARDSON S...|\n",
      "|      132655|  2016-02-05|346039424|DFINE, Inc| 780.7|Allopathic & Oste...|Travel and Lodging|8745 AERO DRIVE,S...|\n",
      "|      132655|  2016-02-05|346039426|DFINE, Inc|  25.0|Allopathic & Oste...|Travel and Lodging|8745 AERO DRIVE,S...|\n",
      "|      132655|  2016-02-19|346039428|DFINE, Inc|  27.3|Allopathic & Oste...|Travel and Lodging|8745 AERO DRIVE,S...|\n",
      "|      132655|  2016-02-18|346039430|DFINE, Inc| 114.0|Allopathic & Oste...|Travel and Lodging|8745 AERO DRIVE,S...|\n",
      "|      132655|  2016-04-18|346039432|DFINE, Inc| 122.5|Allopathic & Oste...| Food and Beverage|8745 AERO DRIVE,S...|\n",
      "|      132655|  2016-03-15|346039434|DFINE, Inc| 103.5|Allopathic & Oste...| Food and Beverage|8745 AERO DRIVE,S...|\n",
      "|      132655|  2016-09-06|346039436|DFINE, Inc|  90.9|Allopathic & Oste...| Food and Beverage|8745 AERO DRIVE,S...|\n",
      "|      132655|  2016-02-12|346039438|DFINE, Inc|  90.9|Allopathic & Oste...| Food and Beverage|8745 AERO DRIVE,S...|\n",
      "|      132655|  2016-02-13|346039440|DFINE, Inc|  23.4|Allopathic & Oste...| Food and Beverage|8745 AERO DRIVE,S...|\n",
      "|     1006832|  2016-02-13|346039442|DFINE, Inc|  32.0|Allopathic & Oste...|Travel and Lodging|10401 W THUNDERBI...|\n",
      "|     1006832|  2016-01-26|346039444|DFINE, Inc| 630.2|Allopathic & Oste...|Travel and Lodging|10401 W THUNDERBI...|\n",
      "|     1006832|  2016-01-26|346039446|DFINE, Inc|  25.0|Allopathic & Oste...|Travel and Lodging|10401 W THUNDERBI...|\n",
      "|     1006832|  2016-02-12|346039448|DFINE, Inc|  59.8|Allopathic & Oste...|Travel and Lodging|10401 W THUNDERBI...|\n",
      "|     1006832|  2016-02-19|346039450|DFINE, Inc|  27.3|Allopathic & Oste...|Travel and Lodging|10401 W THUNDERBI...|\n",
      "|     1006832|  2016-02-12|346039452|DFINE, Inc|  10.8|Allopathic & Oste...| Food and Beverage|10401 W THUNDERBI...|\n",
      "+------------+------------+---------+----------+------+--------------------+------------------+--------------------+\n",
      "only showing top 20 rows\n",
      "\n"
     ]
    }
   ],
   "source": [
    "ds.show()"
   ]
  },
  {
   "cell_type": "markdown",
   "metadata": {},
   "source": [
    "## Converting the pyspark dataframe to RDD of JSON Object "
   ]
  },
  {
   "cell_type": "code",
   "execution_count": 152,
   "metadata": {
    "collapsed": false,
    "scrolled": false
   },
   "outputs": [],
   "source": [
    "\n",
    "    \n",
    "import json\n",
    "\n",
    "results =ds.toJSON()\n",
    "    "
   ]
  },
  {
   "cell_type": "markdown",
   "metadata": {},
   "source": [
    "## Sample RDD "
   ]
  },
  {
   "cell_type": "markdown",
   "metadata": {},
   "source": [
    "## As the dataset is too big, there are a lot of memory issues which we were facing. So we have decided to use only top 50000 rows. In a bigger environment, same method can be used for bigger datasets. "
   ]
  },
  {
   "cell_type": "code",
   "execution_count": 154,
   "metadata": {
    "collapsed": false
   },
   "outputs": [],
   "source": [
    "ds2 = spark.sql(\"select * from global_temp.payments limit 50000\")"
   ]
  },
  {
   "cell_type": "code",
   "execution_count": 155,
   "metadata": {
    "collapsed": false
   },
   "outputs": [
    {
     "name": "stdout",
     "output_type": "stream",
     "text": [
      "+------------+------------+---------+----------+------+--------------------+------------------+--------------------+\n",
      "|physician_id|date_payment|record_id|     payer|amount| Physician_Specialty| Nature_of_payment|             Address|\n",
      "+------------+------------+---------+----------+------+--------------------+------------------+--------------------+\n",
      "|      673985|  2016-01-21|346039414|DFINE, Inc| 286.2|Allopathic & Oste...|Travel and Lodging|726 FOURTH ST, MA...|\n",
      "|      673985|  2016-01-21|346039416|DFINE, Inc|  25.0|Allopathic & Oste...|Travel and Lodging|726 FOURTH ST, MA...|\n",
      "|      673985|  2016-02-19|346039418|DFINE, Inc| 27.27|Allopathic & Oste...|Travel and Lodging|726 FOURTH ST, MA...|\n",
      "|       93975|  2016-04-15|346039420|DFINE, Inc|  21.6|Allopathic & Oste...| Food and Beverage|9601 LILE DR,SUIT...|\n",
      "|      275444|  2016-04-29|346039422|DFINE, Inc| 22.57|Allopathic & Oste...| Food and Beverage|1214 RICHARDSON S...|\n",
      "|      132655|  2016-02-05|346039424|DFINE, Inc| 780.7|Allopathic & Oste...|Travel and Lodging|8745 AERO DRIVE,S...|\n",
      "|      132655|  2016-02-05|346039426|DFINE, Inc|  25.0|Allopathic & Oste...|Travel and Lodging|8745 AERO DRIVE,S...|\n",
      "|      132655|  2016-02-19|346039428|DFINE, Inc| 27.27|Allopathic & Oste...|Travel and Lodging|8745 AERO DRIVE,S...|\n",
      "|      132655|  2016-02-18|346039430|DFINE, Inc| 114.0|Allopathic & Oste...|Travel and Lodging|8745 AERO DRIVE,S...|\n",
      "|      132655|  2016-04-18|346039432|DFINE, Inc|122.49|Allopathic & Oste...| Food and Beverage|8745 AERO DRIVE,S...|\n",
      "|      132655|  2016-03-15|346039434|DFINE, Inc| 103.5|Allopathic & Oste...| Food and Beverage|8745 AERO DRIVE,S...|\n",
      "|      132655|  2016-09-06|346039436|DFINE, Inc| 90.91|Allopathic & Oste...| Food and Beverage|8745 AERO DRIVE,S...|\n",
      "|      132655|  2016-02-12|346039438|DFINE, Inc| 90.87|Allopathic & Oste...| Food and Beverage|8745 AERO DRIVE,S...|\n",
      "|      132655|  2016-02-13|346039440|DFINE, Inc| 23.45|Allopathic & Oste...| Food and Beverage|8745 AERO DRIVE,S...|\n",
      "|     1006832|  2016-02-13|346039442|DFINE, Inc|  32.0|Allopathic & Oste...|Travel and Lodging|10401 W THUNDERBI...|\n",
      "|     1006832|  2016-01-26|346039444|DFINE, Inc| 630.2|Allopathic & Oste...|Travel and Lodging|10401 W THUNDERBI...|\n",
      "|     1006832|  2016-01-26|346039446|DFINE, Inc|  25.0|Allopathic & Oste...|Travel and Lodging|10401 W THUNDERBI...|\n",
      "|     1006832|  2016-02-12|346039448|DFINE, Inc|  59.8|Allopathic & Oste...|Travel and Lodging|10401 W THUNDERBI...|\n",
      "|     1006832|  2016-02-19|346039450|DFINE, Inc| 27.27|Allopathic & Oste...|Travel and Lodging|10401 W THUNDERBI...|\n",
      "|     1006832|  2016-02-12|346039452|DFINE, Inc| 10.75|Allopathic & Oste...| Food and Beverage|10401 W THUNDERBI...|\n",
      "+------------+------------+---------+----------+------+--------------------+------------------+--------------------+\n",
      "only showing top 20 rows\n",
      "\n"
     ]
    }
   ],
   "source": [
    "ds2.show()"
   ]
  },
  {
   "cell_type": "code",
   "execution_count": 156,
   "metadata": {
    "collapsed": true
   },
   "outputs": [],
   "source": [
    "from pyspark import SparkContext, SparkConf"
   ]
  },
  {
   "cell_type": "markdown",
   "metadata": {},
   "source": [
    "## Converting pyspark dataframe to pandas dataframe "
   ]
  },
  {
   "cell_type": "code",
   "execution_count": 157,
   "metadata": {
    "collapsed": true
   },
   "outputs": [],
   "source": [
    "import pandas as pd"
   ]
  },
  {
   "cell_type": "code",
   "execution_count": 158,
   "metadata": {
    "collapsed": false
   },
   "outputs": [],
   "source": [
    "pdDf = ds2.toPandas()"
   ]
  },
  {
   "cell_type": "markdown",
   "metadata": {},
   "source": [
    "## Sample pandas data frame "
   ]
  },
  {
   "cell_type": "code",
   "execution_count": 159,
   "metadata": {
    "collapsed": false
   },
   "outputs": [
    {
     "data": {
      "text/html": [
       "<div>\n",
       "<table border=\"1\" class=\"dataframe\">\n",
       "  <thead>\n",
       "    <tr style=\"text-align: right;\">\n",
       "      <th></th>\n",
       "      <th>physician_id</th>\n",
       "      <th>date_payment</th>\n",
       "      <th>record_id</th>\n",
       "      <th>payer</th>\n",
       "      <th>amount</th>\n",
       "      <th>Physician_Specialty</th>\n",
       "      <th>Nature_of_payment</th>\n",
       "      <th>Address</th>\n",
       "    </tr>\n",
       "  </thead>\n",
       "  <tbody>\n",
       "    <tr>\n",
       "      <th>0</th>\n",
       "      <td>673985</td>\n",
       "      <td>2016-01-21</td>\n",
       "      <td>346039414</td>\n",
       "      <td>DFINE, Inc</td>\n",
       "      <td>286.20</td>\n",
       "      <td>Allopathic &amp; Osteopathic Physicians|Anesthesio...</td>\n",
       "      <td>Travel and Lodging</td>\n",
       "      <td>726 FOURTH ST, MARYSVILLE,CA-95901</td>\n",
       "    </tr>\n",
       "    <tr>\n",
       "      <th>1</th>\n",
       "      <td>673985</td>\n",
       "      <td>2016-01-21</td>\n",
       "      <td>346039416</td>\n",
       "      <td>DFINE, Inc</td>\n",
       "      <td>25.00</td>\n",
       "      <td>Allopathic &amp; Osteopathic Physicians|Anesthesio...</td>\n",
       "      <td>Travel and Lodging</td>\n",
       "      <td>726 FOURTH ST, MARYSVILLE,CA-95901</td>\n",
       "    </tr>\n",
       "    <tr>\n",
       "      <th>2</th>\n",
       "      <td>673985</td>\n",
       "      <td>2016-02-19</td>\n",
       "      <td>346039418</td>\n",
       "      <td>DFINE, Inc</td>\n",
       "      <td>27.27</td>\n",
       "      <td>Allopathic &amp; Osteopathic Physicians|Anesthesio...</td>\n",
       "      <td>Travel and Lodging</td>\n",
       "      <td>726 FOURTH ST, MARYSVILLE,CA-95901</td>\n",
       "    </tr>\n",
       "    <tr>\n",
       "      <th>3</th>\n",
       "      <td>93975</td>\n",
       "      <td>2016-04-15</td>\n",
       "      <td>346039420</td>\n",
       "      <td>DFINE, Inc</td>\n",
       "      <td>21.60</td>\n",
       "      <td>Allopathic &amp; Osteopathic Physicians|Radiology|...</td>\n",
       "      <td>Food and Beverage</td>\n",
       "      <td>9601 LILE DR,SUITE 1100 LITTLE ROCK,AR-72205</td>\n",
       "    </tr>\n",
       "    <tr>\n",
       "      <th>4</th>\n",
       "      <td>275444</td>\n",
       "      <td>2016-04-29</td>\n",
       "      <td>346039422</td>\n",
       "      <td>DFINE, Inc</td>\n",
       "      <td>22.57</td>\n",
       "      <td>Allopathic &amp; Osteopathic Physicians|Internal M...</td>\n",
       "      <td>Food and Beverage</td>\n",
       "      <td>1214 RICHARDSON ST, PORT HURON,MI-48060</td>\n",
       "    </tr>\n",
       "  </tbody>\n",
       "</table>\n",
       "</div>"
      ],
      "text/plain": [
       "  physician_id date_payment  record_id       payer  amount  \\\n",
       "0       673985   2016-01-21  346039414  DFINE, Inc  286.20   \n",
       "1       673985   2016-01-21  346039416  DFINE, Inc   25.00   \n",
       "2       673985   2016-02-19  346039418  DFINE, Inc   27.27   \n",
       "3        93975   2016-04-15  346039420  DFINE, Inc   21.60   \n",
       "4       275444   2016-04-29  346039422  DFINE, Inc   22.57   \n",
       "\n",
       "                                 Physician_Specialty   Nature_of_payment  \\\n",
       "0  Allopathic & Osteopathic Physicians|Anesthesio...  Travel and Lodging   \n",
       "1  Allopathic & Osteopathic Physicians|Anesthesio...  Travel and Lodging   \n",
       "2  Allopathic & Osteopathic Physicians|Anesthesio...  Travel and Lodging   \n",
       "3  Allopathic & Osteopathic Physicians|Radiology|...   Food and Beverage   \n",
       "4  Allopathic & Osteopathic Physicians|Internal M...   Food and Beverage   \n",
       "\n",
       "                                        Address  \n",
       "0            726 FOURTH ST, MARYSVILLE,CA-95901  \n",
       "1            726 FOURTH ST, MARYSVILLE,CA-95901  \n",
       "2            726 FOURTH ST, MARYSVILLE,CA-95901  \n",
       "3  9601 LILE DR,SUITE 1100 LITTLE ROCK,AR-72205  \n",
       "4       1214 RICHARDSON ST, PORT HURON,MI-48060  "
      ]
     },
     "execution_count": 159,
     "metadata": {},
     "output_type": "execute_result"
    }
   ],
   "source": [
    "pdDf.head()"
   ]
  },
  {
   "cell_type": "markdown",
   "metadata": {},
   "source": [
    "## Creating a new index as physician_id+date_payment+Nature_of_payment so that it is easier to query and find records in the database"
   ]
  },
  {
   "cell_type": "code",
   "execution_count": 160,
   "metadata": {
    "collapsed": false
   },
   "outputs": [],
   "source": [
    "pdDf = pdDf.set_index([pdDf.physician_id+'_'+ pdDf.Nature_of_payment])\n",
    "\n",
    "pdDf['date_payment'] = pdDf['date_payment'].astype(str)\n",
    "pdDf = pdDf.set_index([pdDf.physician_id+'_'+'_'+pdDf.date_payment+'_'+ '_'+pdDf.Nature_of_payment])\n",
    "jsonDict = pdDf.to_dict('index')"
   ]
  },
  {
   "cell_type": "markdown",
   "metadata": {},
   "source": [
    "## Sample dataframe with the new index "
   ]
  },
  {
   "cell_type": "code",
   "execution_count": 161,
   "metadata": {
    "collapsed": false
   },
   "outputs": [
    {
     "data": {
      "text/html": [
       "<div>\n",
       "<table border=\"1\" class=\"dataframe\">\n",
       "  <thead>\n",
       "    <tr style=\"text-align: right;\">\n",
       "      <th></th>\n",
       "      <th>physician_id</th>\n",
       "      <th>date_payment</th>\n",
       "      <th>record_id</th>\n",
       "      <th>payer</th>\n",
       "      <th>amount</th>\n",
       "      <th>Physician_Specialty</th>\n",
       "      <th>Nature_of_payment</th>\n",
       "      <th>Address</th>\n",
       "    </tr>\n",
       "  </thead>\n",
       "  <tbody>\n",
       "    <tr>\n",
       "      <th>673985__2016-01-21__Travel and Lodging</th>\n",
       "      <td>673985</td>\n",
       "      <td>2016-01-21</td>\n",
       "      <td>346039414</td>\n",
       "      <td>DFINE, Inc</td>\n",
       "      <td>286.20</td>\n",
       "      <td>Allopathic &amp; Osteopathic Physicians|Anesthesio...</td>\n",
       "      <td>Travel and Lodging</td>\n",
       "      <td>726 FOURTH ST, MARYSVILLE,CA-95901</td>\n",
       "    </tr>\n",
       "    <tr>\n",
       "      <th>673985__2016-01-21__Travel and Lodging</th>\n",
       "      <td>673985</td>\n",
       "      <td>2016-01-21</td>\n",
       "      <td>346039416</td>\n",
       "      <td>DFINE, Inc</td>\n",
       "      <td>25.00</td>\n",
       "      <td>Allopathic &amp; Osteopathic Physicians|Anesthesio...</td>\n",
       "      <td>Travel and Lodging</td>\n",
       "      <td>726 FOURTH ST, MARYSVILLE,CA-95901</td>\n",
       "    </tr>\n",
       "    <tr>\n",
       "      <th>673985__2016-02-19__Travel and Lodging</th>\n",
       "      <td>673985</td>\n",
       "      <td>2016-02-19</td>\n",
       "      <td>346039418</td>\n",
       "      <td>DFINE, Inc</td>\n",
       "      <td>27.27</td>\n",
       "      <td>Allopathic &amp; Osteopathic Physicians|Anesthesio...</td>\n",
       "      <td>Travel and Lodging</td>\n",
       "      <td>726 FOURTH ST, MARYSVILLE,CA-95901</td>\n",
       "    </tr>\n",
       "    <tr>\n",
       "      <th>93975__2016-04-15__Food and Beverage</th>\n",
       "      <td>93975</td>\n",
       "      <td>2016-04-15</td>\n",
       "      <td>346039420</td>\n",
       "      <td>DFINE, Inc</td>\n",
       "      <td>21.60</td>\n",
       "      <td>Allopathic &amp; Osteopathic Physicians|Radiology|...</td>\n",
       "      <td>Food and Beverage</td>\n",
       "      <td>9601 LILE DR,SUITE 1100 LITTLE ROCK,AR-72205</td>\n",
       "    </tr>\n",
       "    <tr>\n",
       "      <th>275444__2016-04-29__Food and Beverage</th>\n",
       "      <td>275444</td>\n",
       "      <td>2016-04-29</td>\n",
       "      <td>346039422</td>\n",
       "      <td>DFINE, Inc</td>\n",
       "      <td>22.57</td>\n",
       "      <td>Allopathic &amp; Osteopathic Physicians|Internal M...</td>\n",
       "      <td>Food and Beverage</td>\n",
       "      <td>1214 RICHARDSON ST, PORT HURON,MI-48060</td>\n",
       "    </tr>\n",
       "  </tbody>\n",
       "</table>\n",
       "</div>"
      ],
      "text/plain": [
       "                                       physician_id date_payment  record_id  \\\n",
       "673985__2016-01-21__Travel and Lodging       673985   2016-01-21  346039414   \n",
       "673985__2016-01-21__Travel and Lodging       673985   2016-01-21  346039416   \n",
       "673985__2016-02-19__Travel and Lodging       673985   2016-02-19  346039418   \n",
       "93975__2016-04-15__Food and Beverage          93975   2016-04-15  346039420   \n",
       "275444__2016-04-29__Food and Beverage        275444   2016-04-29  346039422   \n",
       "\n",
       "                                             payer  amount  \\\n",
       "673985__2016-01-21__Travel and Lodging  DFINE, Inc  286.20   \n",
       "673985__2016-01-21__Travel and Lodging  DFINE, Inc   25.00   \n",
       "673985__2016-02-19__Travel and Lodging  DFINE, Inc   27.27   \n",
       "93975__2016-04-15__Food and Beverage    DFINE, Inc   21.60   \n",
       "275444__2016-04-29__Food and Beverage   DFINE, Inc   22.57   \n",
       "\n",
       "                                                                      Physician_Specialty  \\\n",
       "673985__2016-01-21__Travel and Lodging  Allopathic & Osteopathic Physicians|Anesthesio...   \n",
       "673985__2016-01-21__Travel and Lodging  Allopathic & Osteopathic Physicians|Anesthesio...   \n",
       "673985__2016-02-19__Travel and Lodging  Allopathic & Osteopathic Physicians|Anesthesio...   \n",
       "93975__2016-04-15__Food and Beverage    Allopathic & Osteopathic Physicians|Radiology|...   \n",
       "275444__2016-04-29__Food and Beverage   Allopathic & Osteopathic Physicians|Internal M...   \n",
       "\n",
       "                                         Nature_of_payment  \\\n",
       "673985__2016-01-21__Travel and Lodging  Travel and Lodging   \n",
       "673985__2016-01-21__Travel and Lodging  Travel and Lodging   \n",
       "673985__2016-02-19__Travel and Lodging  Travel and Lodging   \n",
       "93975__2016-04-15__Food and Beverage     Food and Beverage   \n",
       "275444__2016-04-29__Food and Beverage    Food and Beverage   \n",
       "\n",
       "                                                                             Address  \n",
       "673985__2016-01-21__Travel and Lodging            726 FOURTH ST, MARYSVILLE,CA-95901  \n",
       "673985__2016-01-21__Travel and Lodging            726 FOURTH ST, MARYSVILLE,CA-95901  \n",
       "673985__2016-02-19__Travel and Lodging            726 FOURTH ST, MARYSVILLE,CA-95901  \n",
       "93975__2016-04-15__Food and Beverage    9601 LILE DR,SUITE 1100 LITTLE ROCK,AR-72205  \n",
       "275444__2016-04-29__Food and Beverage        1214 RICHARDSON ST, PORT HURON,MI-48060  "
      ]
     },
     "execution_count": 161,
     "metadata": {},
     "output_type": "execute_result"
    }
   ],
   "source": [
    "pdDf.head()"
   ]
  },
  {
   "cell_type": "markdown",
   "metadata": {},
   "source": [
    "## Json Dictionary in the format we require to store in the Database\n",
    "#### Format:\n",
    "#### 'Index': {'physician_id': 'Value',\n",
    "####          'date_payment': 'Value',\n",
    "####          'record_id': 'Value'\n",
    "####          'payer': 'Value',\n",
    "####          'amount': Value,\n",
    "####          'Physician_Specialty': 'Value',\n",
    "####          'Nature_of_Payment': 'Value',\n",
    "####               }\n",
    "     "
   ]
  },
  {
   "cell_type": "code",
   "execution_count": 169,
   "metadata": {
    "collapsed": true
   },
   "outputs": [],
   "source": [
    "from pymongo import MongoClient\n",
    "client = MongoClient()"
   ]
  },
  {
   "cell_type": "markdown",
   "metadata": {},
   "source": [
    "## Connecting to PyMongo "
   ]
  },
  {
   "cell_type": "code",
   "execution_count": 170,
   "metadata": {
    "collapsed": false
   },
   "outputs": [],
   "source": [
    "client = MongoClient('localhost', 27017)"
   ]
  },
  {
   "cell_type": "code",
   "execution_count": null,
   "metadata": {
    "collapsed": true
   },
   "outputs": [],
   "source": []
  },
  {
   "cell_type": "markdown",
   "metadata": {},
   "source": [
    "## Inserting the JSON records into Mongo DB and printing the id of the insertion"
   ]
  },
  {
   "cell_type": "code",
   "execution_count": 171,
   "metadata": {
    "collapsed": false
   },
   "outputs": [
    {
     "name": "stderr",
     "output_type": "stream",
     "text": [
      "C:\\Users\\abhic\\Anaconda3\\lib\\site-packages\\ipykernel\\__main__.py:12: DeprecationWarning: insert is deprecated. Use insert_one or insert_many instead.\n"
     ]
    },
    {
     "name": "stdout",
     "output_type": "stream",
     "text": [
      "5ad513a434f2a34d0c7a8471\n",
      "['mytable']\n"
     ]
    }
   ],
   "source": [
    "from pymongo import MongoClient\n",
    "\n",
    "client = MongoClient('mongodb://localhost:27017/')\n",
    "\n",
    "# data base name : 'test-database-10'\n",
    "mydb = client['test-database-10']\n",
    "\n",
    "import datetime\n",
    "\n",
    "\n",
    "\n",
    "record_id = mydb.mytable.insert(jsonDict)\n",
    "\n",
    "print (record_id)\n",
    "print (mydb.collection_names())"
   ]
  },
  {
   "cell_type": "code",
   "execution_count": null,
   "metadata": {
    "collapsed": true
   },
   "outputs": [],
   "source": []
  }
 ],
 "metadata": {
  "kernelspec": {
   "display_name": "Python 3",
   "language": "python",
   "name": "python3"
  },
  "language_info": {
   "codemirror_mode": {
    "name": "ipython",
    "version": 3
   },
   "file_extension": ".py",
   "mimetype": "text/x-python",
   "name": "python",
   "nbconvert_exporter": "python",
   "pygments_lexer": "ipython3",
   "version": "3.6.0"
  }
 },
 "nbformat": 4,
 "nbformat_minor": 2
}
