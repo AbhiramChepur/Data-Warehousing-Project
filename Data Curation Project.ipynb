{
 "cells": [
  {
   "cell_type": "markdown",
   "metadata": {},
   "source": [
    "# CS 520 Data Curation Project"
   ]
  },
  {
   "cell_type": "markdown",
   "metadata": {},
   "source": [
    "## Our goal for the project is to Extract data from a CSV file. \n",
    "## Transform the original schema of the file into the required schema with lesser number of columns and with column names changed. \n",
    "## Explore and Query the Data. \n",
    "## Save the data as JSON Documents in a MapR-DB JSON Table. \n",
    "## All this is done using Spark in Python.\n",
    "\n",
    "\n",
    "\n",
    "## We have used the Medicare Open payments data from a CSV file."
   ]
  },
  {
   "cell_type": "markdown",
   "metadata": {},
   "source": [
    "## Importing SparkSession"
   ]
  },
  {
   "cell_type": "code",
   "execution_count": 1,
   "metadata": {
    "collapsed": true
   },
   "outputs": [],
   "source": [
    "from pyspark.sql import SparkSession"
   ]
  },
  {
   "cell_type": "markdown",
   "metadata": {},
   "source": [
    "## Building SparkSession "
   ]
  },
  {
   "cell_type": "code",
   "execution_count": 2,
   "metadata": {
    "collapsed": true
   },
   "outputs": [],
   "source": [
    "spark = SparkSession.builder.appName('CS 520').getOrCreate()"
   ]
  },
  {
   "cell_type": "markdown",
   "metadata": {},
   "source": [
    "## reading the csv File "
   ]
  },
  {
   "cell_type": "code",
   "execution_count": 24,
   "metadata": {
    "collapsed": false
   },
   "outputs": [],
   "source": [
    "df = spark.read.csv(\"payments.csv\", header = True)"
   ]
  },
  {
   "cell_type": "markdown",
   "metadata": {},
   "source": [
    "## Print the original schema "
   ]
  },
  {
   "cell_type": "code",
   "execution_count": 49,
   "metadata": {
    "collapsed": false
   },
   "outputs": [
    {
     "name": "stdout",
     "output_type": "stream",
     "text": [
      "root\n",
      " |-- Change_Type: string (nullable = true)\n",
      " |-- Covered_Recipient_Type: string (nullable = true)\n",
      " |-- Teaching_Hospital_CCN: string (nullable = true)\n",
      " |-- Teaching_Hospital_ID: string (nullable = true)\n",
      " |-- Teaching_Hospital_Name: string (nullable = true)\n",
      " |-- Physician_Profile_ID: string (nullable = true)\n",
      " |-- Physician_First_Name: string (nullable = true)\n",
      " |-- Physician_Middle_Name: string (nullable = true)\n",
      " |-- Physician_Last_Name: string (nullable = true)\n",
      " |-- Physician_Name_Suffix: string (nullable = true)\n",
      " |-- Recipient_Primary_Business_Street_Address_Line1: string (nullable = true)\n",
      " |-- Recipient_Primary_Business_Street_Address_Line2: string (nullable = true)\n",
      " |-- Recipient_City: string (nullable = true)\n",
      " |-- Recipient_State: string (nullable = true)\n",
      " |-- Recipient_Zip_Code: string (nullable = true)\n",
      " |-- Recipient_Country: string (nullable = true)\n",
      " |-- Recipient_Province: string (nullable = true)\n",
      " |-- Recipient_Postal_Code: string (nullable = true)\n",
      " |-- Physician_Primary_Type: string (nullable = true)\n",
      " |-- Physician_Specialty: string (nullable = true)\n",
      " |-- Physician_License_State_code1: string (nullable = true)\n",
      " |-- Physician_License_State_code2: string (nullable = true)\n",
      " |-- Physician_License_State_code3: string (nullable = true)\n",
      " |-- Physician_License_State_code4: string (nullable = true)\n",
      " |-- Physician_License_State_code5: string (nullable = true)\n",
      " |-- Submitting_Applicable_Manufacturer_or_Applicable_GPO_Name: string (nullable = true)\n",
      " |-- Applicable_Manufacturer_or_Applicable_GPO_Making_Payment_ID: string (nullable = true)\n",
      " |-- Applicable_Manufacturer_or_Applicable_GPO_Making_Payment_Name: string (nullable = true)\n",
      " |-- Applicable_Manufacturer_or_Applicable_GPO_Making_Payment_State: string (nullable = true)\n",
      " |-- Applicable_Manufacturer_or_Applicable_GPO_Making_Payment_Country: string (nullable = true)\n",
      " |-- Total_Amount_of_Payment_USDollars: string (nullable = true)\n",
      " |-- Date_of_Payment: string (nullable = true)\n",
      " |-- Number_of_Payments_Included_in_Total_Amount: string (nullable = true)\n",
      " |-- Form_of_Payment_or_Transfer_of_Value: string (nullable = true)\n",
      " |-- Nature_of_Payment_or_Transfer_of_Value: string (nullable = true)\n",
      " |-- City_of_Travel: string (nullable = true)\n",
      " |-- State_of_Travel: string (nullable = true)\n",
      " |-- Country_of_Travel: string (nullable = true)\n",
      " |-- Physician_Ownership_Indicator: string (nullable = true)\n",
      " |-- Third_Party_Payment_Recipient_Indicator: string (nullable = true)\n",
      " |-- Name_of_Third_Party_Entity_Receiving_Payment_or_Transfer_of_Value: string (nullable = true)\n",
      " |-- Charity_Indicator: string (nullable = true)\n",
      " |-- Third_Party_Equals_Covered_Recipient_Indicator: string (nullable = true)\n",
      " |-- Contextual_Information: string (nullable = true)\n",
      " |-- Delay_in_Publication_Indicator: string (nullable = true)\n",
      " |-- Record_ID: string (nullable = true)\n",
      " |-- Dispute_Status_for_Publication: string (nullable = true)\n",
      " |-- Related_Product_Indicator: string (nullable = true)\n",
      " |-- Covered_or_Noncovered_Indicator_1: string (nullable = true)\n",
      " |-- Indicate_Drug_or_Biological_or_Device_or_Medical_Supply_1: string (nullable = true)\n",
      " |-- Product_Category_or_Therapeutic_Area_1: string (nullable = true)\n",
      " |-- Name_of_Drug_or_Biological_or_Device_or_Medical_Supply_1: string (nullable = true)\n",
      " |-- Associated_Drug_or_Biological_NDC_1: string (nullable = true)\n",
      " |-- Covered_or_Noncovered_Indicator_2: string (nullable = true)\n",
      " |-- Indicate_Drug_or_Biological_or_Device_or_Medical_Supply_2: string (nullable = true)\n",
      " |-- Product_Category_or_Therapeutic_Area_2: string (nullable = true)\n",
      " |-- Name_of_Drug_or_Biological_or_Device_or_Medical_Supply_2: string (nullable = true)\n",
      " |-- Associated_Drug_or_Biological_NDC_2: string (nullable = true)\n",
      " |-- Covered_or_Noncovered_Indicator_3: string (nullable = true)\n",
      " |-- Indicate_Drug_or_Biological_or_Device_or_Medical_Supply_3: string (nullable = true)\n",
      " |-- Product_Category_or_Therapeutic_Area_3: string (nullable = true)\n",
      " |-- Name_of_Drug_or_Biological_or_Device_or_Medical_Supply_3: string (nullable = true)\n",
      " |-- Associated_Drug_or_Biological_NDC_3: string (nullable = true)\n",
      " |-- Covered_or_Noncovered_Indicator_4: string (nullable = true)\n",
      " |-- Indicate_Drug_or_Biological_or_Device_or_Medical_Supply_4: string (nullable = true)\n",
      " |-- Product_Category_or_Therapeutic_Area_4: string (nullable = true)\n",
      " |-- Name_of_Drug_or_Biological_or_Device_or_Medical_Supply_4: string (nullable = true)\n",
      " |-- Associated_Drug_or_Biological_NDC_4: string (nullable = true)\n",
      " |-- Covered_or_Noncovered_Indicator_5: string (nullable = true)\n",
      " |-- Indicate_Drug_or_Biological_or_Device_or_Medical_Supply_5: string (nullable = true)\n",
      " |-- Product_Category_or_Therapeutic_Area_5: string (nullable = true)\n",
      " |-- Name_of_Drug_or_Biological_or_Device_or_Medical_Supply_5: string (nullable = true)\n",
      " |-- Associated_Drug_or_Biological_NDC_5: string (nullable = true)\n",
      " |-- Program_Year: string (nullable = true)\n",
      " |-- Payment_Publication_Date: string (nullable = true)\n",
      "\n"
     ]
    }
   ],
   "source": [
    "df.printSchema()"
   ]
  },
  {
   "cell_type": "markdown",
   "metadata": {},
   "source": [
    "## Changing the data type of Amount from String to Double  "
   ]
  },
  {
   "cell_type": "code",
   "execution_count": 25,
   "metadata": {
    "collapsed": false
   },
   "outputs": [],
   "source": [
    "from pyspark.sql.types import DoubleType\n"
   ]
  },
  {
   "cell_type": "code",
   "execution_count": 26,
   "metadata": {
    "collapsed": true
   },
   "outputs": [],
   "source": [
    "df2 = df.withColumn(\"amount\" , df[\"Total_Amount_of_Payment_USDollars\"].cast(DoubleType()))"
   ]
  },
  {
   "cell_type": "markdown",
   "metadata": {},
   "source": [
    "## Creating a Temporary Payments "
   ]
  },
  {
   "cell_type": "code",
   "execution_count": null,
   "metadata": {
    "collapsed": true
   },
   "outputs": [],
   "source": [
    "df2.createGlobalTempView(\"payments1\")"
   ]
  },
  {
   "cell_type": "markdown",
   "metadata": {},
   "source": [
    "## We can also specify the schema while importing the file in the below manner "
   ]
  },
  {
   "cell_type": "code",
   "execution_count": 28,
   "metadata": {
    "collapsed": true
   },
   "outputs": [],
   "source": [
    "from pyspark.sql.types import StructField,StringType,IntegerType,StructType"
   ]
  },
  {
   "cell_type": "code",
   "execution_count": 29,
   "metadata": {
    "collapsed": true
   },
   "outputs": [],
   "source": [
    "data_schema = [StructField(\"physician_id\", StringType(), True),StructField(\"date_payment\", StringType(), True),StructField(\"record_id\", StringType(), True),StructField(\"payer\", StringType(), True),StructField(\"amount\", DoubleType(), True),StructField(\"physician_speciality\", StringType(), True),StructField(\"nature_of_payment\", StringType(), True)]"
   ]
  },
  {
   "cell_type": "code",
   "execution_count": 30,
   "metadata": {
    "collapsed": true
   },
   "outputs": [],
   "source": [
    "final_struc = StructType(fields=data_schema)"
   ]
  },
  {
   "cell_type": "markdown",
   "metadata": {},
   "source": [
    "## Selecting only the columns we want and also renaming the Columns as we want "
   ]
  },
  {
   "cell_type": "code",
   "execution_count": 35,
   "metadata": {
    "collapsed": false
   },
   "outputs": [],
   "source": [
    "ds = spark.sql(\"select Physician_Profile_ID as physician_id,Date_of_Payment as date_payment, Record_ID as record_id, Applicable_Manufacturer_or_Applicable_GPO_Making_Payment_Name as payer,amount, Physician_Specialty, Nature_of_Payment_or_Transfer_of_Value as Nature_of_payment from global_temp.payments1 where Physician_Profile_ID IS NOT NULL\") "
   ]
  },
  {
   "cell_type": "markdown",
   "metadata": {},
   "source": [
    "## Required Schema "
   ]
  },
  {
   "cell_type": "code",
   "execution_count": 37,
   "metadata": {
    "collapsed": false
   },
   "outputs": [
    {
     "name": "stdout",
     "output_type": "stream",
     "text": [
      "root\n",
      " |-- physician_id: string (nullable = true)\n",
      " |-- date_payment: string (nullable = true)\n",
      " |-- record_id: string (nullable = true)\n",
      " |-- payer: string (nullable = true)\n",
      " |-- amount: double (nullable = true)\n",
      " |-- Physician_Specialty: string (nullable = true)\n",
      " |-- Nature_of_payment: string (nullable = true)\n",
      "\n"
     ]
    }
   ],
   "source": [
    "ds.printSchema()"
   ]
  },
  {
   "cell_type": "code",
   "execution_count": 42,
   "metadata": {
    "collapsed": false
   },
   "outputs": [
    {
     "data": {
      "text/plain": [
       "DataFrame[physician_id: string, date_payment: string, record_id: string, payer: string, amount: double, Physician_Specialty: string, Nature_of_payment: string]"
      ]
     },
     "execution_count": 42,
     "metadata": {},
     "output_type": "execute_result"
    }
   ],
   "source": [
    "ds.cache()"
   ]
  },
  {
   "cell_type": "code",
   "execution_count": 43,
   "metadata": {
    "collapsed": false
   },
   "outputs": [
    {
     "data": {
      "text/plain": [
       "Row(physician_id='673985', date_payment='01/21/2016', record_id='346039414', payer='DFINE, Inc', amount=286.2, Physician_Specialty='Allopathic & Osteopathic Physicians|Anesthesiology', Nature_of_payment='Travel and Lodging')"
      ]
     },
     "execution_count": 43,
     "metadata": {},
     "output_type": "execute_result"
    }
   ],
   "source": [
    "ds.first()"
   ]
  },
  {
   "cell_type": "markdown",
   "metadata": {},
   "source": [
    "## Replacing the temporary view with our new view "
   ]
  },
  {
   "cell_type": "code",
   "execution_count": 44,
   "metadata": {
    "collapsed": true
   },
   "outputs": [],
   "source": [
    "ds.createOrReplaceGlobalTempView(\"payments\")"
   ]
  },
  {
   "cell_type": "markdown",
   "metadata": {},
   "source": [
    "## Sample data "
   ]
  },
  {
   "cell_type": "code",
   "execution_count": 45,
   "metadata": {
    "collapsed": false
   },
   "outputs": [
    {
     "name": "stdout",
     "output_type": "stream",
     "text": [
      "+------------+------------+---------+----------+------+--------------------+------------------+\n",
      "|physician_id|date_payment|record_id|     payer|amount| Physician_Specialty| Nature_of_payment|\n",
      "+------------+------------+---------+----------+------+--------------------+------------------+\n",
      "|      673985|  01/21/2016|346039414|DFINE, Inc| 286.2|Allopathic & Oste...|Travel and Lodging|\n",
      "|      673985|  01/21/2016|346039416|DFINE, Inc|  25.0|Allopathic & Oste...|Travel and Lodging|\n",
      "|      673985|  02/19/2016|346039418|DFINE, Inc| 27.27|Allopathic & Oste...|Travel and Lodging|\n",
      "|       93975|  04/15/2016|346039420|DFINE, Inc|  21.6|Allopathic & Oste...| Food and Beverage|\n",
      "|      275444|  04/29/2016|346039422|DFINE, Inc| 22.57|Allopathic & Oste...| Food and Beverage|\n",
      "|      132655|  02/05/2016|346039424|DFINE, Inc| 780.7|Allopathic & Oste...|Travel and Lodging|\n",
      "|      132655|  02/05/2016|346039426|DFINE, Inc|  25.0|Allopathic & Oste...|Travel and Lodging|\n",
      "|      132655|  02/19/2016|346039428|DFINE, Inc| 27.27|Allopathic & Oste...|Travel and Lodging|\n",
      "|      132655|  02/18/2016|346039430|DFINE, Inc| 114.0|Allopathic & Oste...|Travel and Lodging|\n",
      "|      132655|  04/18/2016|346039432|DFINE, Inc|122.49|Allopathic & Oste...| Food and Beverage|\n",
      "|      132655|  03/15/2016|346039434|DFINE, Inc| 103.5|Allopathic & Oste...| Food and Beverage|\n",
      "|      132655|  09/06/2016|346039436|DFINE, Inc| 90.91|Allopathic & Oste...| Food and Beverage|\n",
      "|      132655|  02/12/2016|346039438|DFINE, Inc| 90.87|Allopathic & Oste...| Food and Beverage|\n",
      "|      132655|  02/13/2016|346039440|DFINE, Inc| 23.45|Allopathic & Oste...| Food and Beverage|\n",
      "|     1006832|  02/13/2016|346039442|DFINE, Inc|  32.0|Allopathic & Oste...|Travel and Lodging|\n",
      "|     1006832|  01/26/2016|346039444|DFINE, Inc| 630.2|Allopathic & Oste...|Travel and Lodging|\n",
      "|     1006832|  01/26/2016|346039446|DFINE, Inc|  25.0|Allopathic & Oste...|Travel and Lodging|\n",
      "|     1006832|  02/12/2016|346039448|DFINE, Inc|  59.8|Allopathic & Oste...|Travel and Lodging|\n",
      "|     1006832|  02/19/2016|346039450|DFINE, Inc| 27.27|Allopathic & Oste...|Travel and Lodging|\n",
      "|     1006832|  02/12/2016|346039452|DFINE, Inc| 10.75|Allopathic & Oste...| Food and Beverage|\n",
      "+------------+------------+---------+----------+------+--------------------+------------------+\n",
      "only showing top 20 rows\n",
      "\n"
     ]
    }
   ],
   "source": [
    "ds.show()"
   ]
  },
  {
   "cell_type": "markdown",
   "metadata": {},
   "source": [
    "## Querying and Exploring the data  \n",
    "\n",
    "## Querying can be done in two ways. One by using Spark functions and other directly by wrinting SQl statements. Both the ways are used below. "
   ]
  },
  {
   "cell_type": "markdown",
   "metadata": {},
   "source": [
    "### Top 10 nature of accounts with payments by count  "
   ]
  },
  {
   "cell_type": "code",
   "execution_count": 64,
   "metadata": {
    "collapsed": false
   },
   "outputs": [
    {
     "name": "stdout",
     "output_type": "stream",
     "text": [
      "+--------------------+-------+\n",
      "|   Nature_of_Payment|  count|\n",
      "+--------------------+-------+\n",
      "|   Food and Beverage|9975364|\n",
      "|  Travel and Lodging| 575255|\n",
      "|Compensation for ...| 251440|\n",
      "|           Education| 245515|\n",
      "|      Consulting Fee| 115316|\n",
      "|                Gift|  41523|\n",
      "|           Honoraria|  17795|\n",
      "|  Royalty or License|  11814|\n",
      "|Compensation for ...|   9171|\n",
      "|       Entertainment|   8408|\n",
      "+--------------------+-------+\n",
      "only showing top 10 rows\n",
      "\n"
     ]
    }
   ],
   "source": [
    "from pyspark.sql.functions import desc\n",
    "ds.groupBy(ds[\"Nature_of_Payment\"]).count().orderBy(desc(\"count\")).show(10)"
   ]
  },
  {
   "cell_type": "markdown",
   "metadata": {},
   "source": [
    "### Nature of payments with payments  > $1000 with their counts"
   ]
  },
  {
   "cell_type": "code",
   "execution_count": 61,
   "metadata": {
    "collapsed": false
   },
   "outputs": [
    {
     "name": "stdout",
     "output_type": "stream",
     "text": [
      "+--------------------+------+\n",
      "|   Nature_of_Payment| count|\n",
      "+--------------------+------+\n",
      "|           Education|  8378|\n",
      "|       Entertainment|    30|\n",
      "|  Travel and Lodging| 24196|\n",
      "|Charitable Contri...|   235|\n",
      "|Current or prospe...|   523|\n",
      "|           Honoraria| 13052|\n",
      "|               Grant|  2154|\n",
      "|Compensation for ...|  2032|\n",
      "|  Royalty or License|  9151|\n",
      "|Compensation for ...|  5688|\n",
      "|   Food and Beverage|   430|\n",
      "|Compensation for ...|190064|\n",
      "|      Consulting Fee| 71516|\n",
      "|                Gift|  1234|\n",
      "+--------------------+------+\n",
      "\n"
     ]
    }
   ],
   "source": [
    "ds.filter(ds[\"amount\"] > 1000).groupBy(ds[\"Nature_of_Payment\"]).count().show()"
   ]
  },
  {
   "cell_type": "markdown",
   "metadata": {},
   "source": [
    "### Top five Physicain specialites by total amount "
   ]
  },
  {
   "cell_type": "code",
   "execution_count": 65,
   "metadata": {
    "collapsed": true
   },
   "outputs": [],
   "source": [
    "from pyspark.sql.functions import sum"
   ]
  },
  {
   "cell_type": "code",
   "execution_count": 76,
   "metadata": {
    "collapsed": false
   },
   "outputs": [
    {
     "name": "stdout",
     "output_type": "stream",
     "text": [
      "+------------+--------------------+\n",
      "|physician_id|             revenue|\n",
      "+------------+--------------------+\n",
      "|      288926|       2.183833534E7|\n",
      "|      311622|1.9940975750000004E7|\n",
      "|      327184|1.3732734540000003E7|\n",
      "|      281659|         1.3202939E7|\n",
      "|       32719|1.2149519940000001E7|\n",
      "+------------+--------------------+\n",
      "\n"
     ]
    }
   ],
   "source": [
    "spark.sql (\"select physician_id , sum(amount) as revenue from global_thttps://mapr.com/blog/etl-pipeline-healthcare-dataset-with-spark-json-mapr-db/assets/queries-chart-example-3.pngemp.payments group by physician_id order by revenue desc limit 5\").show() "
   ]
  },
  {
   "cell_type": "markdown",
   "metadata": {},
   "source": [
    "### Top 10  nature of payments by total amount"
   ]
  },
  {
   "cell_type": "code",
   "execution_count": 78,
   "metadata": {
    "collapsed": false
   },
   "outputs": [
    {
     "name": "stdout",
     "output_type": "stream",
     "text": [
      "+--------------------+--------------------+\n",
      "|   Nature_of_payment|               total|\n",
      "+--------------------+--------------------+\n",
      "|Compensation for ...| 5.618398276899997E8|\n",
      "|  Royalty or License| 4.892801498499998E8|\n",
      "|      Consulting Fee|3.6266093983000004E8|\n",
      "|   Food and Beverage|2.4166747336000344E8|\n",
      "|  Travel and Lodging|1.9028856042000213E8|\n",
      "|Current or prospe...|6.2862144450000025E7|\n",
      "|           Honoraria|       4.392361441E7|\n",
      "|           Education| 3.895051414999967E7|\n",
      "|               Grant|       2.389616791E7|\n",
      "|Compensation for ...|       2.006624783E7|\n",
      "+--------------------+--------------------+\n",
      "\n"
     ]
    }
   ],
   "source": [
    "spark.sql(\"select Nature_of_payment , sum(amount) as total from global_temp.payments group by Nature_of_payment order by total desc limit 10\").show()"
   ]
  },
  {
   "cell_type": "code",
   "execution_count": null,
   "metadata": {
    "collapsed": true
   },
   "outputs": [],
   "source": []
  }
 ],
 "metadata": {
  "kernelspec": {
   "display_name": "Python 3",
   "language": "python",
   "name": "python3"
  },
  "language_info": {
   "codemirror_mode": {
    "name": "ipython",
    "version": 3
   },
   "file_extension": ".py",
   "mimetype": "text/x-python",
   "name": "python",
   "nbconvert_exporter": "python",
   "pygments_lexer": "ipython3",
   "version": "3.6.0"
  }
 },
 "nbformat": 4,
 "nbformat_minor": 2
}
